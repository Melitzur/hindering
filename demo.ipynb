{
 "cells": [
  {
   "cell_type": "code",
   "execution_count": 1,
   "id": "1b273bf8-8f54-473c-b2a4-3574b95a80a0",
   "metadata": {},
   "outputs": [],
   "source": [
    "%matplotlib inline\n",
    "import numpy as np\n",
    "import pandas as pd\n",
    "import matplotlib.pyplot as plt\n",
    "\n",
    "from modeling.the_globals import gdp, popl\n",
    "from modeling.t_series import T_Series, Full_fit, time_series"
   ]
  },
  {
   "cell_type": "code",
   "execution_count": 2,
   "id": "6f929a1c-57fb-4be6-b9e3-f4c008b6ee42",
   "metadata": {},
   "outputs": [],
   "source": [
    "_df = pd.read_csv('USGDP_1790-2021.csv', header=1, thousands=',')\n",
    "dates = np.array(_df['Year'])\n",
    "for c in _df.columns:\n",
    "    if 'Population' in c: data_pop = 1.E3*np.array(_df[c])\n",
    "    if 'Real GDP' in c:   data_gdp = 1.E6*np.array(_df[c])"
   ]
  },
  {
   "cell_type": "markdown",
   "id": "acdc1018-ca97-431e-abe1-7a5d5a233d6c",
   "metadata": {},
   "source": [
    "# Population Time Series\n",
    "Create a T_Series instance from the data, check that the time series corresponds to a growth process."
   ]
  },
  {
   "cell_type": "code",
   "execution_count": 3,
   "id": "0e69803b-0ae9-46d7-b343-cb64f6e353a2",
   "metadata": {},
   "outputs": [
    {
     "name": "stdout",
     "output_type": "stream",
     "text": [
      "________________________________________________________________________\n",
      "\n",
      "♦♦♦♦♦♦♦♦♦ US Population: 232 data points, from year 1790--2021 ♦♦♦♦♦♦♦♦♦\n",
      "________________________________________________________________________\n",
      "\n",
      "Population grew from 3.93 million in 1790 to 331.89 million in 2021\n",
      "an increase by factor of 84.47\n",
      "MK-Tests: Zmax = 22.68\n",
      "Evidence for growth from data: z = 22.7, p-value = 0\n",
      "Evidence for decline from growth rate: z = -16.8, p-value = 1.39E-63\n",
      "Evidence for decline from growth-rate spline: z = -22.1, p-value = 3E-108\n"
     ]
    }
   ],
   "source": [
    "info, data = popl, data_pop\n",
    "hdr = f'US {info.desc}'\n",
    "hdr += f': {len(data)} data points, from {info.t_unit} {dates[0]}--{dates[-1]}'\n",
    "ts_pop = T_Series(info, data, dates=dates, hdr=hdr, verbose=2)"
   ]
  },
  {
   "cell_type": "markdown",
   "id": "dc238cca-aea6-487c-b9af-2e4c5c1b000d",
   "metadata": {},
   "source": [
    "## The Trend\n",
    "The dataset shows long-term growth, so proceed to determine the best-fitting trend. With the option verbose = 2 we will get full output, including step-by-step details of the search for the best fit."
   ]
  },
  {
   "cell_type": "code",
   "execution_count": 4,
   "id": "eb87d9d7-aaef-4ec6-a31e-cdc931b61aa8",
   "metadata": {},
   "outputs": [
    {
     "name": "stdout",
     "output_type": "stream",
     "text": [
      "\n",
      "Fitting done minimizing SUM(1 - model/data)**2\n",
      "\n",
      "Modeling with exponential, [ru, q0]:\n",
      "rss = 1.59E+01, fvu = 1.02E-01; popt: 1.92E-02, 7.05E-02\n",
      "gu = 1.92%, qh = 7.05E-02\n",
      "\n",
      "Modeling with logistic, [ru, qh, xh]:\n",
      "rss = 1.37E+00, fvu = 8.75E-03; popt: 2.80E-02, 1.85E+00, 4.27E+00\n",
      "gu = 2.80%, qh = 1.85E+00, xh = 4.27E+00\n",
      "\n",
      "Modeling with single-term hindering, [ru, qh, xh]:\n",
      "k = 1: rss = 2.23E-01, fvu = 1.42E-03; popt: 3.38E-02, 1.14E+00, 4.19E+00\n",
      "k = 2: rss = 1.00E+00, fvu = 6.41E-03; popt: 2.77E-02, 1.64E+00, 4.00E+00\n",
      "***rss minimum = 2.225E-01: k = 1\n",
      "gu = 3.38%, qh = 1.14E+00, xh = 4.19E+00\n",
      "\n",
      "****F-testing fits with exp (p = 2) and sth, k = 1 (p = 3):\n",
      "Fcrit = 6.747 for alpha = 0.01\n",
      "F = 1.61E+04, alpha = 1.11E-16; fit with sth, k = 1 is preferred\n",
      "\n",
      "Adding term to k = 1: \n",
      "Modeling with multi-term hindering, [ru, qh, xh, a_list]:\n",
      "k = [1, 2]: rss = 2.23E-01, fvu = 1.42E-03; popt: 3.38E-02, 1.14E+00, 4.19E+00, 5.46E+00, 4.09E-15\n",
      "k = [1, 3]: rss = 2.23E-01, fvu = 1.42E-03; popt: 3.38E-02, 1.14E+00, 4.19E+00, 2.50E-01, 6.69E-20\n",
      "***rss minimum = 2.225E-01: k = [1, 2]\n",
      "gu = 3.38%, qh = 1.14E+00, xh = 4.19E+00\n",
      "a(1) = 5.46E+00, a(2) = 4.09E-15\n",
      "\n",
      "Best next term is multi-term hindering, k = [1, 2]; rss = 2.23E-01\n",
      "gu = 3.38%, Qh = 9.62E+07, xh = 4.19E+00\n",
      " k   w_k\n",
      " 1 1.00E+00\n",
      " 2 7.48E-16\n",
      "\n",
      "****F-testing fits with sth, k = 1 (p = 3) and mth, k = [1, 2] (p = 4):\n",
      "Fcrit = 6.748 for alpha = 0.01\n",
      "F = 4.148E-11, alpha = 1; fit with sth, k = 1 is preferred\n",
      "No significant improvement from added term\n",
      "\n",
      "***** Best-fit model is single-term hindering, k = 1\n",
      "gu = 3.38%±0.02%; Qh = 9.62E+07±1.47E+06; th = 124.17±3.60E-01, yh = 1914\n",
      "gu(t - th) = [-4.19, 3.61], Q/Qh = [0.041, 3.4]\n",
      "Fluctuations = (data - fit)/data: mean = 9.59E-04, std = 3.10E-02\n",
      "No evidence for trend from fluctuations: z = 0.911, p-value = 0.0905\n",
      "\n",
      "Comparing all fits:\n"
     ]
    },
    {
     "data": {
      "text/html": [
       "<div>\n",
       "<style scoped>\n",
       "    .dataframe tbody tr th:only-of-type {\n",
       "        vertical-align: middle;\n",
       "    }\n",
       "\n",
       "    .dataframe tbody tr th {\n",
       "        vertical-align: top;\n",
       "    }\n",
       "\n",
       "    .dataframe thead th {\n",
       "        text-align: right;\n",
       "    }\n",
       "</style>\n",
       "<table border=\"1\" class=\"dataframe\">\n",
       "  <thead>\n",
       "    <tr style=\"text-align: right;\">\n",
       "      <th></th>\n",
       "      <th>fluc mean</th>\n",
       "      <th>bic</th>\n",
       "      <th>gu(/year)</th>\n",
       "      <th>Qh</th>\n",
       "      <th>xh</th>\n",
       "      <th>th(year)</th>\n",
       "      <th>yh</th>\n",
       "    </tr>\n",
       "  </thead>\n",
       "  <tbody>\n",
       "    <tr>\n",
       "      <th>sth, k = 1</th>\n",
       "      <td>9.59E-04</td>\n",
       "      <td>-1,595.93</td>\n",
       "      <td>3.38%</td>\n",
       "      <td>9.62E+07</td>\n",
       "      <td>4.19</td>\n",
       "      <td>124.17</td>\n",
       "      <td>1914</td>\n",
       "    </tr>\n",
       "    <tr>\n",
       "      <th>mth, k = [1, 2]</th>\n",
       "      <td>9.59E-04</td>\n",
       "      <td>-1,590.48</td>\n",
       "      <td>3.38%</td>\n",
       "      <td>9.62E+07</td>\n",
       "      <td>4.19</td>\n",
       "      <td>124.17</td>\n",
       "      <td>1914</td>\n",
       "    </tr>\n",
       "    <tr>\n",
       "      <th>logist</th>\n",
       "      <td>5.91E-03</td>\n",
       "      <td>-1,174.11</td>\n",
       "      <td>2.80%</td>\n",
       "      <td>1.57E+08</td>\n",
       "      <td>4.27</td>\n",
       "      <td>152.51</td>\n",
       "      <td>1942</td>\n",
       "    </tr>\n",
       "    <tr>\n",
       "      <th>exp</th>\n",
       "      <td>6.87E-02</td>\n",
       "      <td>-610.41</td>\n",
       "      <td>1.92%</td>\n",
       "      <td></td>\n",
       "      <td></td>\n",
       "      <td></td>\n",
       "      <td></td>\n",
       "    </tr>\n",
       "  </tbody>\n",
       "</table>\n",
       "</div>"
      ],
      "text/plain": [
       "                fluc mean        bic gu(/year)        Qh    xh th(year)    yh\n",
       "sth, k = 1       9.59E-04  -1,595.93     3.38%  9.62E+07  4.19   124.17  1914\n",
       "mth, k = [1, 2]  9.59E-04  -1,590.48     3.38%  9.62E+07  4.19   124.17  1914\n",
       "logist           5.91E-03  -1,174.11     2.80%  1.57E+08  4.27   152.51  1942\n",
       "exp              6.87E-02    -610.41     1.92%                               "
      ]
     },
     "metadata": {},
     "output_type": "display_data"
    },
    {
     "name": "stdout",
     "output_type": "stream",
     "text": [
      "\n",
      "logistic: K = 3.13E+08\n"
     ]
    }
   ],
   "source": [
    "ts_pop.hfit = ts_pop.get_trend(verbose=2)"
   ]
  },
  {
   "cell_type": "markdown",
   "id": "c9bdab89-e79b-4b3a-a4c5-60195d86eb43",
   "metadata": {},
   "source": [
    "## The Fluctuations\n",
    "Determine the best-fitting ARMA model to the fluctuations around the trend line. This is done by searching for the (p,q) parameters pair that minimizes the BIC of fits with ARMA(p,q)."
   ]
  },
  {
   "cell_type": "code",
   "execution_count": 5,
   "id": "11ad6b2b-6990-47b7-a5fd-01e0eb8a0554",
   "metadata": {},
   "outputs": [
    {
     "name": "stdout",
     "output_type": "stream",
     "text": [
      "\n",
      "(p, q)     BIC\n",
      "(0, 1)   -1250.56\n",
      "(1, 0)   -1966.17\n",
      "(1, 1)   -2101.83\n",
      "(0, 2)   -1531.40\n",
      "(1, 2)   -2191.24\n",
      "(2, 0)   -2280.73\n",
      "(2, 1)   -2278.64\n",
      "(2, 2)   -2282.97\n",
      "(0, 3)   -1720.65\n",
      "(1, 3)   -2137.00\n",
      "(2, 3)   -2277.28\n",
      "(3, 0)   -2277.49\n",
      "(3, 1)   -2277.47\n",
      "(3, 2)   -2255.57\n",
      "(3, 3)   -2271.68\n",
      "\n",
      "ARMA(2, 2) is the fit with minimum BIC = -2282.97\n",
      "==============================================================================\n",
      "                 coef    std err          z      P>|z|      [0.025      0.975]\n",
      "------------------------------------------------------------------------------\n",
      "const          0.0010      0.009      0.103      0.918      -0.017       0.019\n",
      "ar.L1          1.8779      0.038     49.417      0.000       1.803       1.952\n",
      "ar.L2         -0.8881      0.038    -23.617      0.000      -0.962      -0.814\n",
      "ma.L1          0.1267      0.058      2.196      0.028       0.014       0.240\n",
      "ma.L2         -0.2262      0.058     -3.927      0.000      -0.339      -0.113\n",
      "sigma2      2.621e-06   1.72e-07     15.251      0.000    2.28e-06    2.96e-06\n",
      "==============================================================================\n"
     ]
    }
   ],
   "source": [
    "from modeling.arma import best_arma\n",
    "ts_pop.arma = best_arma(ts_pop.hfit.dev, dates=ts_pop.dates, verbose=2)"
   ]
  },
  {
   "cell_type": "markdown",
   "id": "d7d1177a-2cab-4fd8-91c6-e1c17f357795",
   "metadata": {},
   "source": [
    "## Full Fit\n",
    "Combine the best-fitting trend line and ARMA fit to the fluctuations to produce the overall best fit to the data:\n",
    "\n",
    "\\begin{equation}\n",
    "\\tt\n",
    "    model = \\frac{trend}{1 - arma}\n",
    "\\end{equation}\n",
    "\n",
    "Error estimates are obtained by constructing two samples: one for the trend, with multivariate normal distribution centered on the hindering solution optimal parameters and using their covariance matrix, the other for the fluctuations. With the above equation we construct from the two the overall sample from which we determine the model standard error (ste) and 95\\% confidence interval\n",
    "(CI). Checking whether the sampling mean agrees with the fitted model is a test of sample size.\n"
   ]
  },
  {
   "cell_type": "code",
   "execution_count": 6,
   "id": "0d0dee1a-52f9-43f5-8613-3a2d35ce793d",
   "metadata": {},
   "outputs": [
    {
     "name": "stdout",
     "output_type": "stream",
     "text": [
      "\n",
      "*** CI(95) calculation for full fit:\n",
      "sample_size = 100, err = 3.77E-04 < acc = 1.00E-02\n"
     ]
    }
   ],
   "source": [
    "ts_pop.fit = Full_fit(ts_pop.time, ts_pop.hfit, ts_pop.arma, verbose=2)"
   ]
  },
  {
   "cell_type": "markdown",
   "id": "21d84b4b-b339-4727-8a7a-93a19af2ce60",
   "metadata": {},
   "source": [
    "## Summary Plot"
   ]
  },
  {
   "cell_type": "code",
   "execution_count": 7,
   "id": "e9a63f08-d2e2-4881-9f01-60792f5fc776",
   "metadata": {},
   "outputs": [
    {
     "data": {
      "image/png": "[encoded data removed]",
      "text/plain": [
       "<Figure size 700x500 with 1 Axes>"
      ]
     },
     "metadata": {},
     "output_type": "display_data"
    }
   ],
   "source": [
    "def summary_plot(ts):\n",
    "    plt.rcParams['xtick.direction'] = 'in'\n",
    "    plt.rcParams['ytick.direction'] = 'in'\n",
    "    plt.rcParams['xtick.top'] = True\n",
    "    plt.rcParams['ytick.right'] = True\n",
    "    \n",
    "    Fig, fig = plt.subplots(figsize=(7,5))\n",
    "    info = ts.info                # information about the time series variable\n",
    "    x = ts.dates                  # the series dates  \n",
    "    fit = ts.fit\n",
    "    y_list = [ts.data, fit.model] # the series data and the overall fit\n",
    "    labels = ['data', 'fit']\n",
    "    styles = [dict(color='C0', marker='o', lw=0.7, ms=2),\n",
    "              dict(color='C1', lw=1.5, alpha=0.5)\n",
    "             ]\n",
    "\n",
    "    # plot the data and the overall fit\n",
    "    for y, label, style in zip(y_list, labels, styles):\n",
    "        fig.semilogy(x, y, label=label, **style)\n",
    "    # The fit's confidence interval \n",
    "    fig.fill_between(x, fit.ci[:,0], fit.ci[:,1],\n",
    "            label=f'{fit.conf}% CI', color='grey', alpha=.2\n",
    "            )   \n",
    "\n",
    "    fig.set(\n",
    "            xlabel=info.t_unit,\n",
    "            ylabel=f'{info.desc}' + (info.unit == '$')*' ($)',\n",
    "            title=f'US {info.desc}',\n",
    "           )\n",
    "    fig.legend(loc='upper left')\n",
    "    plt.show()\n",
    "\n",
    "summary_plot(ts_pop)"
   ]
  },
  {
   "cell_type": "code",
   "execution_count": null,
   "id": "977aa572-c016-4787-8486-4f8875a44b0f",
   "metadata": {},
   "outputs": [],
   "source": []
  },
  {
   "cell_type": "markdown",
   "id": "f3a05135-7222-41fc-9e46-60fc0f659b7c",
   "metadata": {},
   "source": [
    "# GDP - All in One\n",
    "Here we generate the best-fitting trend, ARMA and overall model in a single step with the function time_series(). The final fit and all its components are properties of the resulting object ts_gdp. \n",
    "\n",
    "With verbose = 1, the output contains only the essential results, skipping the intermediate steps. "
   ]
  },
  {
   "cell_type": "code",
   "execution_count": 8,
   "id": "7b8c51cf-7dee-43c0-b2f2-2fc05f0f00b7",
   "metadata": {},
   "outputs": [
    {
     "name": "stdout",
     "output_type": "stream",
     "text": [
      "________________________________________________________________________\n",
      "\n",
      "♦♦♦♦♦ US GDP ($ = 2012 USD): 232 data points, from year 1790--2021 ♦♦♦♦♦\n",
      "________________________________________________________________________\n",
      "\n",
      "GDP grew from $4.57 billion in 1790 to $19.43 trillion in 2021\n",
      "an increase by factor of 4253\n",
      "Evidence for growth from data: z = 22.5, p-value = 0\n",
      "Evidence for decline from growth rate: z = -3.51, p-value = 0.00022\n",
      "Evidence for decline from growth-rate spline: z = -22.7, p-value = 3.92E-114\n",
      "\n",
      "♦♦♦♦♦♦♦♦ Growth Trend ♦♦♦♦♦♦♦♦\n",
      "\n",
      "Fitting done minimizing SUM(1 - model/data)**2\n",
      "\n",
      "***** Best-fit model is single-term hindering, k = 1\n",
      "gu = 3.83%±0.02%; Qh = 3.12E+13±3.43E+12; th = 250.96±2.68E+00, yh = 2040\n",
      "gu(t - th) = [-9.61, -0.76], Q/Qh = [0.00015, 0.62]\n",
      "Fluctuations = (data - fit)/data: mean = 1.71E-02, std = 1.29E-01\n",
      "No evidence for trend from fluctuations: z = 1.47, p-value = 0.0356\n",
      "\n",
      "♦♦♦♦♦♦♦♦♦♦♦♦ ARMA ♦♦♦♦♦♦♦♦♦♦♦♦\n",
      "\n",
      "AR(2) is the fit with minimum BIC = -815.15\n",
      "==============================================================================\n",
      "                 coef    std err          z      P>|z|      [0.025      0.975]\n",
      "------------------------------------------------------------------------------\n",
      "const          0.0076      0.034      0.222      0.824      -0.060       0.075\n",
      "ar.L1          1.3085      0.043     30.699      0.000       1.225       1.392\n",
      "ar.L2         -0.3839      0.043     -8.921      0.000      -0.468      -0.300\n",
      "sigma2         0.0016   9.19e-05     17.086      0.000       0.001       0.002\n",
      "==============================================================================\n",
      "\n",
      "♦♦♦♦♦♦♦♦♦♦ Full Fit ♦♦♦♦♦♦♦♦♦♦\n",
      "\n",
      "*** CI(95) calculation for full fit:\n",
      "sample_size = 100, err = 5.73E-03 < acc = 1.00E-02\n",
      "\n",
      "\n",
      "\n"
     ]
    }
   ],
   "source": [
    "info, data = gdp, data_gdp\n",
    "hdr = f'US {info.desc} ($ = 2012 USD)'\n",
    "hdr += f': {len(data)} data points, from {info.t_unit} {dates[0]}--{dates[-1]}'\n",
    "ts_gdp = time_series(info, data, verbose=1,\n",
    "                     kw_args=dict(dates=dates, hdr=hdr),\n",
    "                    )"
   ]
  },
  {
   "cell_type": "code",
   "execution_count": 9,
   "id": "056cf584-888f-409c-868e-50b03c1f19a2",
   "metadata": {},
   "outputs": [
    {
     "data": {
      "image/png": "[encoded data removed]",
      "text/plain": [
       "<Figure size 700x500 with 1 Axes>"
      ]
     },
     "metadata": {},
     "output_type": "display_data"
    }
   ],
   "source": [
    "summary_plot(ts_gdp)"
   ]
  },
  {
   "cell_type": "code",
   "execution_count": null,
   "id": "95bc384c-29a1-4ccb-87f6-b01db4789657",
   "metadata": {},
   "outputs": [],
   "source": []
  }
 ],
 "metadata": {
  "kernelspec": {
   "display_name": "Python 3 (ipykernel)",
   "language": "python",
   "name": "python3"
  },
  "language_info": {
   "codemirror_mode": {
    "name": "ipython",
    "version": 3
   },
   "file_extension": ".py",
   "mimetype": "text/x-python",
   "name": "python",
   "nbconvert_exporter": "python",
   "pygments_lexer": "ipython3",
   "version": "3.10.8"
  }
 },
 "nbformat": 4,
 "nbformat_minor": 5
}
